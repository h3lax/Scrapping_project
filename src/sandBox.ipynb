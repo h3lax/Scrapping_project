{
 "cells": [
  {
   "cell_type": "markdown",
   "metadata": {},
   "source": [
    "# Performance (Classification)"
   ]
  },
  {
   "cell_type": "code",
   "execution_count": 9,
   "metadata": {},
   "outputs": [],
   "source": [
    "# True positive, false positive, true negative, false negative\n",
    "tp = 14\n",
    "fp = 7\n",
    "tn = 7\n",
    "fn = 0"
   ]
  },
  {
   "cell_type": "code",
   "execution_count": 10,
   "metadata": {},
   "outputs": [
    {
     "name": "stdout",
     "output_type": "stream",
     "text": [
      "Precision = 0.6666666666666666\n",
      "Recall = 1.0\n",
      "Accuracy = 0.75\n"
     ]
    }
   ],
   "source": [
    "Precision = tp /(tp + fp)\n",
    "Recall = tp / ( tp +fn )\n",
    "Accuracy = (tp + tn ) / (tp + tn + fn + fp)\n",
    "print('Precision = ' + str(Precision) )\n",
    "print('Recall = ' + str(Recall))\n",
    "print('Accuracy = ' + str(Accuracy))"
   ]
  },
  {
   "cell_type": "markdown",
   "metadata": {},
   "source": [
    "# Normalisation"
   ]
  },
  {
   "cell_type": "code",
   "execution_count": null,
   "metadata": {},
   "outputs": [],
   "source": [
    "# Normalization\n",
    "X_norm = (X - X.min())/(X.max() - X.min())\n",
    "\n",
    "# Loi normale\n"
   ]
  }
 ],
 "metadata": {
  "kernelspec": {
   "display_name": "local",
   "language": "python",
   "name": "python3"
  },
  "language_info": {
   "codemirror_mode": {
    "name": "ipython",
    "version": 3
   },
   "file_extension": ".py",
   "mimetype": "text/x-python",
   "name": "python",
   "nbconvert_exporter": "python",
   "pygments_lexer": "ipython3",
   "version": "3.12.8"
  }
 },
 "nbformat": 4,
 "nbformat_minor": 2
}
