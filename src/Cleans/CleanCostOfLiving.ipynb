{
 "cells": [
  {
   "cell_type": "code",
   "execution_count": 1,
   "metadata": {},
   "outputs": [],
   "source": [
    "import pandas as pd\n",
    "import re\n",
    "import os"
   ]
  },
  {
   "cell_type": "code",
   "execution_count": 2,
   "metadata": {},
   "outputs": [],
   "source": [
    "csv_file = '../../data/bronze/CostOfLiving.csv'\n",
    "df = pd.read_csv(csv_file)"
   ]
  },
  {
   "cell_type": "code",
   "execution_count": null,
   "metadata": {},
   "outputs": [
    {
     "data": {
      "text/html": [
       "<div>\n",
       "<style scoped>\n",
       "    .dataframe tbody tr th:only-of-type {\n",
       "        vertical-align: middle;\n",
       "    }\n",
       "\n",
       "    .dataframe tbody tr th {\n",
       "        vertical-align: top;\n",
       "    }\n",
       "\n",
       "    .dataframe thead th {\n",
       "        text-align: right;\n",
       "    }\n",
       "</style>\n",
       "<table border=\"1\" class=\"dataframe\">\n",
       "  <thead>\n",
       "    <tr style=\"text-align: right;\">\n",
       "      <th></th>\n",
       "      <th>Pays</th>\n",
       "      <th>Item</th>\n",
       "      <th>Price</th>\n",
       "    </tr>\n",
       "  </thead>\n",
       "  <tbody>\n",
       "    <tr>\n",
       "      <th>0</th>\n",
       "      <td>Afghanistan</td>\n",
       "      <td>Meal, Inexpensive Restaurant</td>\n",
       "      <td>2.05 $</td>\n",
       "    </tr>\n",
       "    <tr>\n",
       "      <th>1</th>\n",
       "      <td>Afghanistan</td>\n",
       "      <td>Meal for 2 People, Mid-range Restaurant, Three...</td>\n",
       "      <td>10.13 $</td>\n",
       "    </tr>\n",
       "    <tr>\n",
       "      <th>2</th>\n",
       "      <td>Afghanistan</td>\n",
       "      <td>McMeal at McDonalds (or Equivalent Combo Meal)</td>\n",
       "      <td>3.42 $</td>\n",
       "    </tr>\n",
       "    <tr>\n",
       "      <th>3</th>\n",
       "      <td>Afghanistan</td>\n",
       "      <td>Domestic Non-Alcoholic Beer (0.5 liter draught)</td>\n",
       "      <td>2.74 $</td>\n",
       "    </tr>\n",
       "    <tr>\n",
       "      <th>4</th>\n",
       "      <td>Afghanistan</td>\n",
       "      <td>Imported Non-Alcoholic Beer (0.33 liter bottle)</td>\n",
       "      <td>6.84 $</td>\n",
       "    </tr>\n",
       "    <tr>\n",
       "      <th>...</th>\n",
       "      <td>...</td>\n",
       "      <td>...</td>\n",
       "      <td>...</td>\n",
       "    </tr>\n",
       "    <tr>\n",
       "      <th>12865</th>\n",
       "      <td>Zimbabwe</td>\n",
       "      <td>Apartment (3 bedrooms) Outside of Centre</td>\n",
       "      <td>511.74 $</td>\n",
       "    </tr>\n",
       "    <tr>\n",
       "      <th>12866</th>\n",
       "      <td>Zimbabwe</td>\n",
       "      <td>Price per Square Meter to Buy Apartment in Cit...</td>\n",
       "      <td>1,050.00 $</td>\n",
       "    </tr>\n",
       "    <tr>\n",
       "      <th>12867</th>\n",
       "      <td>Zimbabwe</td>\n",
       "      <td>Price per Square Meter to Buy Apartment Outsid...</td>\n",
       "      <td>1,424.13 $</td>\n",
       "    </tr>\n",
       "    <tr>\n",
       "      <th>12868</th>\n",
       "      <td>Zimbabwe</td>\n",
       "      <td>Average Monthly Net Salary (After Tax)</td>\n",
       "      <td>367.91 $</td>\n",
       "    </tr>\n",
       "    <tr>\n",
       "      <th>12869</th>\n",
       "      <td>Zimbabwe</td>\n",
       "      <td>Mortgage Interest Rate in Percentages (%), Yea...</td>\n",
       "      <td>14.21</td>\n",
       "    </tr>\n",
       "  </tbody>\n",
       "</table>\n",
       "<p>12870 rows × 3 columns</p>\n",
       "</div>"
      ],
      "text/plain": [
       "              Pays                                               Item  \\\n",
       "0      Afghanistan                       Meal, Inexpensive Restaurant   \n",
       "1      Afghanistan  Meal for 2 People, Mid-range Restaurant, Three...   \n",
       "2      Afghanistan     McMeal at McDonalds (or Equivalent Combo Meal)   \n",
       "3      Afghanistan    Domestic Non-Alcoholic Beer (0.5 liter draught)   \n",
       "4      Afghanistan    Imported Non-Alcoholic Beer (0.33 liter bottle)   \n",
       "...            ...                                                ...   \n",
       "12865     Zimbabwe           Apartment (3 bedrooms) Outside of Centre   \n",
       "12866     Zimbabwe  Price per Square Meter to Buy Apartment in Cit...   \n",
       "12867     Zimbabwe  Price per Square Meter to Buy Apartment Outsid...   \n",
       "12868     Zimbabwe             Average Monthly Net Salary (After Tax)   \n",
       "12869     Zimbabwe  Mortgage Interest Rate in Percentages (%), Yea...   \n",
       "\n",
       "            Price  \n",
       "0          2.05 $  \n",
       "1         10.13 $  \n",
       "2          3.42 $  \n",
       "3          2.74 $  \n",
       "4          6.84 $  \n",
       "...           ...  \n",
       "12865    511.74 $  \n",
       "12866  1,050.00 $  \n",
       "12867  1,424.13 $  \n",
       "12868    367.91 $  \n",
       "12869       14.21  \n",
       "\n",
       "[12870 rows x 3 columns]"
      ]
     },
     "execution_count": 3,
     "metadata": {},
     "output_type": "execute_result"
    }
   ],
   "source": [
    "df"
   ]
  },
  {
   "cell_type": "code",
   "execution_count": 4,
   "metadata": {},
   "outputs": [],
   "source": [
    "# Clean the 'Price' column\n",
    "df['Price'] = df['Price'].str.replace(r'\\s+', '', regex=True)  # Remove whitespace\n",
    "df['Price'] = df['Price'].str.replace(r'[^\\d.]', '', regex=True)  # Remove non-numeric characters\n",
    "df['Price'] = pd.to_numeric(df['Price'], errors='coerce')  # Convert to numeric\n",
    "\n",
    "# Drop rows with NaN values in 'Price'\n",
    "df = df.dropna(subset=['Price'])"
   ]
  },
  {
   "cell_type": "code",
   "execution_count": 5,
   "metadata": {},
   "outputs": [],
   "source": [
    "# Remove rows where 'Item' contains 'Beer' (case insensitive)\n",
    "df = df[~df['Item'].str.contains('Beer', case=False, na=False)]"
   ]
  },
  {
   "cell_type": "code",
   "execution_count": 6,
   "metadata": {},
   "outputs": [],
   "source": [
    "# Drop duplicate rows based on 'Pays' and 'Item'\n",
    "df = df.drop_duplicates(subset=['Pays', 'Item'], keep='first')"
   ]
  },
  {
   "cell_type": "code",
   "execution_count": 7,
   "metadata": {},
   "outputs": [],
   "source": [
    "# Ensure the 'Price' column is numeric and check for NaNs\n",
    "assert df['Price'].dtype in [float, int], \"Price column is not numeric\"\n",
    "assert not df['Price'].isna().any(), \"There are NaNs in the Price column\""
   ]
  },
  {
   "cell_type": "code",
   "execution_count": 8,
   "metadata": {},
   "outputs": [],
   "source": [
    "# Save the cleaned data\n",
    "dir_path = '../../data/silver'\n",
    "os.makedirs(dir_path, exist_ok=True)\n",
    "df.to_csv(os.path.join(dir_path, 'CostOfLiving_cleaned.csv'), index=False)"
   ]
  }
 ],
 "metadata": {
  "kernelspec": {
   "display_name": "local",
   "language": "python",
   "name": "python3"
  },
  "language_info": {
   "codemirror_mode": {
    "name": "ipython",
    "version": 3
   },
   "file_extension": ".py",
   "mimetype": "text/x-python",
   "name": "python",
   "nbconvert_exporter": "python",
   "pygments_lexer": "ipython3",
   "version": "3.12.8"
  }
 },
 "nbformat": 4,
 "nbformat_minor": 2
}
