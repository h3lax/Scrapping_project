{
 "cells": [
  {
   "cell_type": "code",
   "execution_count": 138,
   "metadata": {},
   "outputs": [],
   "source": [
    "import pandas as pd\n",
    "from sklearn.linear_model import LinearRegression\n",
    "from sklearn.model_selection import train_test_split\n",
    "from sklearn.preprocessing import StandardScaler\n",
    "from sklearn.metrics import r2_score, mean_squared_error, mean_absolute_error\n",
    "from sklearn.ensemble import RandomForestRegressor\n",
    "from sklearn.naive_bayes import GaussianNB\n",
    "# knn ou random forest à tester"
   ]
  },
  {
   "cell_type": "markdown",
   "metadata": {},
   "source": [
    "# I. Préparation des données d'entrainement"
   ]
  },
  {
   "cell_type": "code",
   "execution_count": 139,
   "metadata": {},
   "outputs": [
    {
     "name": "stdout",
     "output_type": "stream",
     "text": [
      "Pays     0\n",
      "Item     0\n",
      "Price    0\n",
      "dtype: int64\n",
      "Pays      object\n",
      "Item      object\n",
      "Price    float64\n",
      "dtype: object\n"
     ]
    }
   ],
   "source": [
    "cost_csv = '../../data/silver/CostOfLiving_cleaned.csv'\n",
    "df_cost = pd.read_csv(cost_csv)\n",
    "# print(df_cost.columns)\n",
    "print(df_cost.isna().sum())\n",
    "print(df_cost.dtypes)"
   ]
  },
  {
   "cell_type": "code",
   "execution_count": 140,
   "metadata": {},
   "outputs": [],
   "source": [
    "# Configuration du modèle\n",
    "pollution_data = 'Pollution_index_Exp' # indice de pollution\n",
    "rdn_state = 42 # seed pour la reproductibilité\n",
    "test_part = 0.2 # % des données pour le test"
   ]
  },
  {
   "cell_type": "code",
   "execution_count": 141,
   "metadata": {},
   "outputs": [
    {
     "name": "stdout",
     "output_type": "stream",
     "text": [
      "Index(['Country', 'Pollution_index', 'Pollution_index_Exp'], dtype='object')\n",
      "Country                 object\n",
      "Pollution_index        float64\n",
      "Pollution_index_Exp    float64\n",
      "dtype: object\n",
      "Index(['Country', 'Pollution_index_Exp'], dtype='object')\n"
     ]
    }
   ],
   "source": [
    "pollution_csv = '../../data/silver/Pollution_global_cleaned.csv'\n",
    "df_pollution = pd.read_csv(pollution_csv)\n",
    "print(df_pollution.columns)\n",
    "print(df_pollution.dtypes)\n",
    "# We choose to use the flat index for now\n",
    "df_pollution = df_pollution[['Country', pollution_data]]\n",
    "print(df_pollution.columns)"
   ]
  },
  {
   "cell_type": "code",
   "execution_count": 142,
   "metadata": {},
   "outputs": [
    {
     "name": "stdout",
     "output_type": "stream",
     "text": [
      "Missing countries: {'Burkina_Faso', 'Comoros', 'Anguilla', 'Bonaire', 'Western_Sahara', 'Tonga', 'Wallis_And_Futuna', 'Montserrat', 'Saint_Vincent_And_The_Grenadines'}\n",
      "Extra countries: set()\n"
     ]
    }
   ],
   "source": [
    "# Find countries present in Cost of Living but missing from Pollution data\n",
    "missing_countries = set(df_cost['Pays']) - set(df_pollution['Country'])\n",
    "print(\"Missing countries:\", missing_countries)\n",
    "\n",
    "# Find extra countries in Pollution not present in Cost of Living\n",
    "extra_countries = set(df_pollution['Country']) - set(df_cost['Pays'])\n",
    "print(\"Extra countries:\", extra_countries)"
   ]
  },
  {
   "cell_type": "code",
   "execution_count": 143,
   "metadata": {},
   "outputs": [],
   "source": [
    "# Delete rows with missing target countries\n",
    "df_cost = df_cost[~df_cost['Pays'].isin(missing_countries)]"
   ]
  },
  {
   "cell_type": "code",
   "execution_count": 144,
   "metadata": {},
   "outputs": [],
   "source": [
    "# Map countries to numeric indicators\n",
    "# country_mapping = {country: idx for idx, country in enumerate(df_cost['Pays'].unique())}\n",
    "# df_cost['CountryID'] = df_cost['Pays'].map(country_mapping)"
   ]
  },
  {
   "cell_type": "code",
   "execution_count": 145,
   "metadata": {},
   "outputs": [],
   "source": [
    "# Pivot the table to have all item prices on the same row for each country\n",
    "# Pivot the data based on 'Pays' and 'Item', we are creating a column for each item with the price as the value\n",
    "pivot_df = df_cost.pivot(index='Pays', columns='Item', values='Price')"
   ]
  },
  {
   "cell_type": "code",
   "execution_count": 146,
   "metadata": {},
   "outputs": [],
   "source": [
    "# we adress countries with missing values\n",
    "# First we drop the columns with too many missing values\n",
    "pivot_df = pivot_df.drop(columns=['Bottle of Non-Alcoholic Wine (Mid-Range)', 'Buffalo Round (1kg) (or Equivalent Back Leg Red Meat)', 'Volkswagen Golf 1.4 90 KW Trendline (Or Equivalent New Car)'])"
   ]
  },
  {
   "cell_type": "code",
   "execution_count": 147,
   "metadata": {},
   "outputs": [
    {
     "name": "stdout",
     "output_type": "stream",
     "text": [
      "0\n"
     ]
    }
   ],
   "source": [
    "# Then we get rid of the rows remaining with missing values\n",
    "pivot_df = pivot_df.dropna()\n",
    "print(pivot_df.isna().sum().sum())"
   ]
  },
  {
   "cell_type": "code",
   "execution_count": 148,
   "metadata": {},
   "outputs": [],
   "source": [
    "# Reset the index to make 'Pays' just a normal column again\n",
    "pivot_df.reset_index(inplace=True)"
   ]
  },
  {
   "cell_type": "code",
   "execution_count": 149,
   "metadata": {},
   "outputs": [],
   "source": [
    "# Add the 'CountryID' column to the pivoted DataFrame\n",
    "# pivot_df['CountryID'] = pivot_df['Pays'].map(country_mapping)"
   ]
  },
  {
   "cell_type": "code",
   "execution_count": 150,
   "metadata": {},
   "outputs": [],
   "source": [
    "# rename Polution country to Pays\n",
    "df_pollution.rename(columns={\"Country\": \"Pays\"}, inplace=True)"
   ]
  },
  {
   "cell_type": "code",
   "execution_count": 151,
   "metadata": {},
   "outputs": [],
   "source": [
    "# Merge both set (inner makes it useless to check for missing countries btw)\n",
    "df_combined = pd.merge(pivot_df, df_pollution, on='Pays', how='inner')"
   ]
  },
  {
   "cell_type": "code",
   "execution_count": 152,
   "metadata": {},
   "outputs": [],
   "source": [
    "# One Hot encoding des Pays !\n",
    "df_combined = pd.get_dummies(df_combined, columns=[\"Pays\"], drop_first=True)"
   ]
  },
  {
   "cell_type": "code",
   "execution_count": 153,
   "metadata": {},
   "outputs": [
    {
     "data": {
      "text/html": [
       "<div>\n",
       "<style scoped>\n",
       "    .dataframe tbody tr th:only-of-type {\n",
       "        vertical-align: middle;\n",
       "    }\n",
       "\n",
       "    .dataframe tbody tr th {\n",
       "        vertical-align: top;\n",
       "    }\n",
       "\n",
       "    .dataframe thead th {\n",
       "        text-align: right;\n",
       "    }\n",
       "</style>\n",
       "<table border=\"1\" class=\"dataframe\">\n",
       "  <thead>\n",
       "    <tr style=\"text-align: right;\">\n",
       "      <th></th>\n",
       "      <th>Price per Square Meter to Buy Apartment in City Centre</th>\n",
       "      <th>Rice (white), (1kg)</th>\n",
       "      <th>Taxi 1hour Waiting (Normal Tariff)</th>\n",
       "      <th>Taxi 1km (Normal Tariff)</th>\n",
       "      <th>Taxi Start (Normal Tariff)</th>\n",
       "      <th>Tennis Court Rent (1 Hour on Weekend)</th>\n",
       "      <th>Tomato (1kg)</th>\n",
       "      <th>Toyota Corolla Sedan 1.6l 97kW Comfort (Or Equivalent New Car)</th>\n",
       "      <th>Water (0.33 liter bottle)</th>\n",
       "      <th>Water (1.5 liter bottle)</th>\n",
       "      <th>...</th>\n",
       "      <th>Pays_United_Arab_Emirates</th>\n",
       "      <th>Pays_United_Kingdom</th>\n",
       "      <th>Pays_United_States</th>\n",
       "      <th>Pays_Uruguay</th>\n",
       "      <th>Pays_Us_Virgin_Islands</th>\n",
       "      <th>Pays_Uzbekistan</th>\n",
       "      <th>Pays_Venezuela</th>\n",
       "      <th>Pays_Vietnam</th>\n",
       "      <th>Pays_Zambia</th>\n",
       "      <th>Pays_Zimbabwe</th>\n",
       "    </tr>\n",
       "  </thead>\n",
       "  <tbody>\n",
       "    <tr>\n",
       "      <th>0</th>\n",
       "      <td>2676.23</td>\n",
       "      <td>2.06</td>\n",
       "      <td>20.59</td>\n",
       "      <td>1.03</td>\n",
       "      <td>7.21</td>\n",
       "      <td>20.59</td>\n",
       "      <td>4.12</td>\n",
       "      <td>22988.15</td>\n",
       "      <td>1.75</td>\n",
       "      <td>1.64</td>\n",
       "      <td>...</td>\n",
       "      <td>False</td>\n",
       "      <td>False</td>\n",
       "      <td>False</td>\n",
       "      <td>False</td>\n",
       "      <td>False</td>\n",
       "      <td>False</td>\n",
       "      <td>False</td>\n",
       "      <td>False</td>\n",
       "      <td>False</td>\n",
       "      <td>False</td>\n",
       "    </tr>\n",
       "    <tr>\n",
       "      <th>1</th>\n",
       "      <td>2426.32</td>\n",
       "      <td>1.96</td>\n",
       "      <td>15.05</td>\n",
       "      <td>3.14</td>\n",
       "      <td>3.14</td>\n",
       "      <td>24.71</td>\n",
       "      <td>1.53</td>\n",
       "      <td>29426.07</td>\n",
       "      <td>0.78</td>\n",
       "      <td>0.64</td>\n",
       "      <td>...</td>\n",
       "      <td>False</td>\n",
       "      <td>False</td>\n",
       "      <td>False</td>\n",
       "      <td>False</td>\n",
       "      <td>False</td>\n",
       "      <td>False</td>\n",
       "      <td>False</td>\n",
       "      <td>False</td>\n",
       "      <td>False</td>\n",
       "      <td>False</td>\n",
       "    </tr>\n",
       "  </tbody>\n",
       "</table>\n",
       "<p>2 rows × 179 columns</p>\n",
       "</div>"
      ],
      "text/plain": [
       "   Price per Square Meter to Buy Apartment in City Centre  \\\n",
       "0                                            2676.23        \n",
       "1                                            2426.32        \n",
       "\n",
       "   Rice (white), (1kg)  Taxi 1hour Waiting (Normal Tariff)  \\\n",
       "0                 2.06                               20.59   \n",
       "1                 1.96                               15.05   \n",
       "\n",
       "   Taxi 1km (Normal Tariff)  Taxi Start (Normal Tariff)  \\\n",
       "0                      1.03                        7.21   \n",
       "1                      3.14                        3.14   \n",
       "\n",
       "   Tennis Court Rent (1 Hour on Weekend)  Tomato (1kg)  \\\n",
       "0                                  20.59          4.12   \n",
       "1                                  24.71          1.53   \n",
       "\n",
       "   Toyota Corolla Sedan 1.6l 97kW Comfort (Or Equivalent New Car)  \\\n",
       "0                                           22988.15                \n",
       "1                                           29426.07                \n",
       "\n",
       "   Water (0.33 liter bottle)  Water (1.5 liter bottle)  ...  \\\n",
       "0                       1.75                      1.64  ...   \n",
       "1                       0.78                      0.64  ...   \n",
       "\n",
       "   Pays_United_Arab_Emirates  Pays_United_Kingdom  Pays_United_States  \\\n",
       "0                      False                False               False   \n",
       "1                      False                False               False   \n",
       "\n",
       "   Pays_Uruguay  Pays_Us_Virgin_Islands  Pays_Uzbekistan  Pays_Venezuela  \\\n",
       "0         False                   False            False           False   \n",
       "1         False                   False            False           False   \n",
       "\n",
       "   Pays_Vietnam  Pays_Zambia  Pays_Zimbabwe  \n",
       "0         False        False          False  \n",
       "1         False        False          False  \n",
       "\n",
       "[2 rows x 179 columns]"
      ]
     },
     "execution_count": 153,
     "metadata": {},
     "output_type": "execute_result"
    }
   ],
   "source": [
    "df_combined[df_combined.columns[40:]].head(2)"
   ]
  },
  {
   "cell_type": "code",
   "execution_count": 154,
   "metadata": {},
   "outputs": [
    {
     "data": {
      "text/plain": [
       "0     34.83\n",
       "1    135.48\n",
       "2    111.15\n",
       "3     39.53\n",
       "4    165.30\n",
       "5     86.60\n",
       "6    112.82\n",
       "7     64.86\n",
       "8     43.01\n",
       "9     33.55\n",
       "Name: Pollution_index_Exp, dtype: float64"
      ]
     },
     "execution_count": 154,
     "metadata": {},
     "output_type": "execute_result"
    }
   ],
   "source": [
    "df_combined[pollution_data].head(10)"
   ]
  },
  {
   "cell_type": "code",
   "execution_count": 155,
   "metadata": {},
   "outputs": [
    {
     "data": {
      "text/plain": [
       "2676.23"
      ]
     },
     "execution_count": 155,
     "metadata": {},
     "output_type": "execute_result"
    }
   ],
   "source": [
    "df_combined.iloc[0][\"Price per Square Meter to Buy Apartment in City Centre\"]"
   ]
  },
  {
   "cell_type": "code",
   "execution_count": 156,
   "metadata": {},
   "outputs": [
    {
     "data": {
      "text/plain": [
       "169"
      ]
     },
     "execution_count": 156,
     "metadata": {},
     "output_type": "execute_result"
    }
   ],
   "source": [
    "len(df_combined)"
   ]
  },
  {
   "cell_type": "code",
   "execution_count": 157,
   "metadata": {},
   "outputs": [
    {
     "data": {
      "text/plain": [
       "1 Pair of Jeans (Levis 501 Or Similar)              float64\n",
       "1 Pair of Men Leather Business Shoes                float64\n",
       "1 Pair of Nike Running Shoes (Mid-Range)            float64\n",
       "1 Summer Dress in a Chain Store (Zara, H&M, ...)    float64\n",
       "Apartment (1 bedroom) Outside of Centre             float64\n",
       "                                                     ...   \n",
       "Pays_Uzbekistan                                        bool\n",
       "Pays_Venezuela                                         bool\n",
       "Pays_Vietnam                                           bool\n",
       "Pays_Zambia                                            bool\n",
       "Pays_Zimbabwe                                          bool\n",
       "Length: 219, dtype: object"
      ]
     },
     "execution_count": 157,
     "metadata": {},
     "output_type": "execute_result"
    }
   ],
   "source": [
    "df_combined.dtypes"
   ]
  },
  {
   "cell_type": "markdown",
   "metadata": {},
   "source": [
    "# II. Configuration & training du modèle"
   ]
  },
  {
   "cell_type": "code",
   "execution_count": 158,
   "metadata": {},
   "outputs": [],
   "source": [
    "X = df_combined.drop(columns=['Water (1.5 liter bottle)'], axis=1)  \n",
    "y = df_combined['Water (1.5 liter bottle)']"
   ]
  },
  {
   "cell_type": "code",
   "execution_count": 159,
   "metadata": {},
   "outputs": [],
   "source": [
    "# Normalize/scale data : If price columns are on a different scale than pollution index, scaling helps ?\n",
    "scaler = StandardScaler()\n",
    "X_scaled = scaler.fit_transform(X)"
   ]
  },
  {
   "cell_type": "code",
   "execution_count": 160,
   "metadata": {},
   "outputs": [],
   "source": [
    "# Split into training and test sets: 80% training, 20% test\n",
    "X_train, X_test, y_train, y_test = train_test_split(X_scaled, y, test_size=test_part, random_state=rdn_state)\n"
   ]
  },
  {
   "cell_type": "code",
   "execution_count": 161,
   "metadata": {},
   "outputs": [
    {
     "data": {
      "text/html": [
       "<style>#sk-container-id-6 {\n",
       "  /* Definition of color scheme common for light and dark mode */\n",
       "  --sklearn-color-text: #000;\n",
       "  --sklearn-color-text-muted: #666;\n",
       "  --sklearn-color-line: gray;\n",
       "  /* Definition of color scheme for unfitted estimators */\n",
       "  --sklearn-color-unfitted-level-0: #fff5e6;\n",
       "  --sklearn-color-unfitted-level-1: #f6e4d2;\n",
       "  --sklearn-color-unfitted-level-2: #ffe0b3;\n",
       "  --sklearn-color-unfitted-level-3: chocolate;\n",
       "  /* Definition of color scheme for fitted estimators */\n",
       "  --sklearn-color-fitted-level-0: #f0f8ff;\n",
       "  --sklearn-color-fitted-level-1: #d4ebff;\n",
       "  --sklearn-color-fitted-level-2: #b3dbfd;\n",
       "  --sklearn-color-fitted-level-3: cornflowerblue;\n",
       "\n",
       "  /* Specific color for light theme */\n",
       "  --sklearn-color-text-on-default-background: var(--sg-text-color, var(--theme-code-foreground, var(--jp-content-font-color1, black)));\n",
       "  --sklearn-color-background: var(--sg-background-color, var(--theme-background, var(--jp-layout-color0, white)));\n",
       "  --sklearn-color-border-box: var(--sg-text-color, var(--theme-code-foreground, var(--jp-content-font-color1, black)));\n",
       "  --sklearn-color-icon: #696969;\n",
       "\n",
       "  @media (prefers-color-scheme: dark) {\n",
       "    /* Redefinition of color scheme for dark theme */\n",
       "    --sklearn-color-text-on-default-background: var(--sg-text-color, var(--theme-code-foreground, var(--jp-content-font-color1, white)));\n",
       "    --sklearn-color-background: var(--sg-background-color, var(--theme-background, var(--jp-layout-color0, #111)));\n",
       "    --sklearn-color-border-box: var(--sg-text-color, var(--theme-code-foreground, var(--jp-content-font-color1, white)));\n",
       "    --sklearn-color-icon: #878787;\n",
       "  }\n",
       "}\n",
       "\n",
       "#sk-container-id-6 {\n",
       "  color: var(--sklearn-color-text);\n",
       "}\n",
       "\n",
       "#sk-container-id-6 pre {\n",
       "  padding: 0;\n",
       "}\n",
       "\n",
       "#sk-container-id-6 input.sk-hidden--visually {\n",
       "  border: 0;\n",
       "  clip: rect(1px 1px 1px 1px);\n",
       "  clip: rect(1px, 1px, 1px, 1px);\n",
       "  height: 1px;\n",
       "  margin: -1px;\n",
       "  overflow: hidden;\n",
       "  padding: 0;\n",
       "  position: absolute;\n",
       "  width: 1px;\n",
       "}\n",
       "\n",
       "#sk-container-id-6 div.sk-dashed-wrapped {\n",
       "  border: 1px dashed var(--sklearn-color-line);\n",
       "  margin: 0 0.4em 0.5em 0.4em;\n",
       "  box-sizing: border-box;\n",
       "  padding-bottom: 0.4em;\n",
       "  background-color: var(--sklearn-color-background);\n",
       "}\n",
       "\n",
       "#sk-container-id-6 div.sk-container {\n",
       "  /* jupyter's `normalize.less` sets `[hidden] { display: none; }`\n",
       "     but bootstrap.min.css set `[hidden] { display: none !important; }`\n",
       "     so we also need the `!important` here to be able to override the\n",
       "     default hidden behavior on the sphinx rendered scikit-learn.org.\n",
       "     See: https://github.com/scikit-learn/scikit-learn/issues/21755 */\n",
       "  display: inline-block !important;\n",
       "  position: relative;\n",
       "}\n",
       "\n",
       "#sk-container-id-6 div.sk-text-repr-fallback {\n",
       "  display: none;\n",
       "}\n",
       "\n",
       "div.sk-parallel-item,\n",
       "div.sk-serial,\n",
       "div.sk-item {\n",
       "  /* draw centered vertical line to link estimators */\n",
       "  background-image: linear-gradient(var(--sklearn-color-text-on-default-background), var(--sklearn-color-text-on-default-background));\n",
       "  background-size: 2px 100%;\n",
       "  background-repeat: no-repeat;\n",
       "  background-position: center center;\n",
       "}\n",
       "\n",
       "/* Parallel-specific style estimator block */\n",
       "\n",
       "#sk-container-id-6 div.sk-parallel-item::after {\n",
       "  content: \"\";\n",
       "  width: 100%;\n",
       "  border-bottom: 2px solid var(--sklearn-color-text-on-default-background);\n",
       "  flex-grow: 1;\n",
       "}\n",
       "\n",
       "#sk-container-id-6 div.sk-parallel {\n",
       "  display: flex;\n",
       "  align-items: stretch;\n",
       "  justify-content: center;\n",
       "  background-color: var(--sklearn-color-background);\n",
       "  position: relative;\n",
       "}\n",
       "\n",
       "#sk-container-id-6 div.sk-parallel-item {\n",
       "  display: flex;\n",
       "  flex-direction: column;\n",
       "}\n",
       "\n",
       "#sk-container-id-6 div.sk-parallel-item:first-child::after {\n",
       "  align-self: flex-end;\n",
       "  width: 50%;\n",
       "}\n",
       "\n",
       "#sk-container-id-6 div.sk-parallel-item:last-child::after {\n",
       "  align-self: flex-start;\n",
       "  width: 50%;\n",
       "}\n",
       "\n",
       "#sk-container-id-6 div.sk-parallel-item:only-child::after {\n",
       "  width: 0;\n",
       "}\n",
       "\n",
       "/* Serial-specific style estimator block */\n",
       "\n",
       "#sk-container-id-6 div.sk-serial {\n",
       "  display: flex;\n",
       "  flex-direction: column;\n",
       "  align-items: center;\n",
       "  background-color: var(--sklearn-color-background);\n",
       "  padding-right: 1em;\n",
       "  padding-left: 1em;\n",
       "}\n",
       "\n",
       "\n",
       "/* Toggleable style: style used for estimator/Pipeline/ColumnTransformer box that is\n",
       "clickable and can be expanded/collapsed.\n",
       "- Pipeline and ColumnTransformer use this feature and define the default style\n",
       "- Estimators will overwrite some part of the style using the `sk-estimator` class\n",
       "*/\n",
       "\n",
       "/* Pipeline and ColumnTransformer style (default) */\n",
       "\n",
       "#sk-container-id-6 div.sk-toggleable {\n",
       "  /* Default theme specific background. It is overwritten whether we have a\n",
       "  specific estimator or a Pipeline/ColumnTransformer */\n",
       "  background-color: var(--sklearn-color-background);\n",
       "}\n",
       "\n",
       "/* Toggleable label */\n",
       "#sk-container-id-6 label.sk-toggleable__label {\n",
       "  cursor: pointer;\n",
       "  display: flex;\n",
       "  width: 100%;\n",
       "  margin-bottom: 0;\n",
       "  padding: 0.5em;\n",
       "  box-sizing: border-box;\n",
       "  text-align: center;\n",
       "  align-items: start;\n",
       "  justify-content: space-between;\n",
       "  gap: 0.5em;\n",
       "}\n",
       "\n",
       "#sk-container-id-6 label.sk-toggleable__label .caption {\n",
       "  font-size: 0.6rem;\n",
       "  font-weight: lighter;\n",
       "  color: var(--sklearn-color-text-muted);\n",
       "}\n",
       "\n",
       "#sk-container-id-6 label.sk-toggleable__label-arrow:before {\n",
       "  /* Arrow on the left of the label */\n",
       "  content: \"▸\";\n",
       "  float: left;\n",
       "  margin-right: 0.25em;\n",
       "  color: var(--sklearn-color-icon);\n",
       "}\n",
       "\n",
       "#sk-container-id-6 label.sk-toggleable__label-arrow:hover:before {\n",
       "  color: var(--sklearn-color-text);\n",
       "}\n",
       "\n",
       "/* Toggleable content - dropdown */\n",
       "\n",
       "#sk-container-id-6 div.sk-toggleable__content {\n",
       "  max-height: 0;\n",
       "  max-width: 0;\n",
       "  overflow: hidden;\n",
       "  text-align: left;\n",
       "  /* unfitted */\n",
       "  background-color: var(--sklearn-color-unfitted-level-0);\n",
       "}\n",
       "\n",
       "#sk-container-id-6 div.sk-toggleable__content.fitted {\n",
       "  /* fitted */\n",
       "  background-color: var(--sklearn-color-fitted-level-0);\n",
       "}\n",
       "\n",
       "#sk-container-id-6 div.sk-toggleable__content pre {\n",
       "  margin: 0.2em;\n",
       "  border-radius: 0.25em;\n",
       "  color: var(--sklearn-color-text);\n",
       "  /* unfitted */\n",
       "  background-color: var(--sklearn-color-unfitted-level-0);\n",
       "}\n",
       "\n",
       "#sk-container-id-6 div.sk-toggleable__content.fitted pre {\n",
       "  /* unfitted */\n",
       "  background-color: var(--sklearn-color-fitted-level-0);\n",
       "}\n",
       "\n",
       "#sk-container-id-6 input.sk-toggleable__control:checked~div.sk-toggleable__content {\n",
       "  /* Expand drop-down */\n",
       "  max-height: 200px;\n",
       "  max-width: 100%;\n",
       "  overflow: auto;\n",
       "}\n",
       "\n",
       "#sk-container-id-6 input.sk-toggleable__control:checked~label.sk-toggleable__label-arrow:before {\n",
       "  content: \"▾\";\n",
       "}\n",
       "\n",
       "/* Pipeline/ColumnTransformer-specific style */\n",
       "\n",
       "#sk-container-id-6 div.sk-label input.sk-toggleable__control:checked~label.sk-toggleable__label {\n",
       "  color: var(--sklearn-color-text);\n",
       "  background-color: var(--sklearn-color-unfitted-level-2);\n",
       "}\n",
       "\n",
       "#sk-container-id-6 div.sk-label.fitted input.sk-toggleable__control:checked~label.sk-toggleable__label {\n",
       "  background-color: var(--sklearn-color-fitted-level-2);\n",
       "}\n",
       "\n",
       "/* Estimator-specific style */\n",
       "\n",
       "/* Colorize estimator box */\n",
       "#sk-container-id-6 div.sk-estimator input.sk-toggleable__control:checked~label.sk-toggleable__label {\n",
       "  /* unfitted */\n",
       "  background-color: var(--sklearn-color-unfitted-level-2);\n",
       "}\n",
       "\n",
       "#sk-container-id-6 div.sk-estimator.fitted input.sk-toggleable__control:checked~label.sk-toggleable__label {\n",
       "  /* fitted */\n",
       "  background-color: var(--sklearn-color-fitted-level-2);\n",
       "}\n",
       "\n",
       "#sk-container-id-6 div.sk-label label.sk-toggleable__label,\n",
       "#sk-container-id-6 div.sk-label label {\n",
       "  /* The background is the default theme color */\n",
       "  color: var(--sklearn-color-text-on-default-background);\n",
       "}\n",
       "\n",
       "/* On hover, darken the color of the background */\n",
       "#sk-container-id-6 div.sk-label:hover label.sk-toggleable__label {\n",
       "  color: var(--sklearn-color-text);\n",
       "  background-color: var(--sklearn-color-unfitted-level-2);\n",
       "}\n",
       "\n",
       "/* Label box, darken color on hover, fitted */\n",
       "#sk-container-id-6 div.sk-label.fitted:hover label.sk-toggleable__label.fitted {\n",
       "  color: var(--sklearn-color-text);\n",
       "  background-color: var(--sklearn-color-fitted-level-2);\n",
       "}\n",
       "\n",
       "/* Estimator label */\n",
       "\n",
       "#sk-container-id-6 div.sk-label label {\n",
       "  font-family: monospace;\n",
       "  font-weight: bold;\n",
       "  display: inline-block;\n",
       "  line-height: 1.2em;\n",
       "}\n",
       "\n",
       "#sk-container-id-6 div.sk-label-container {\n",
       "  text-align: center;\n",
       "}\n",
       "\n",
       "/* Estimator-specific */\n",
       "#sk-container-id-6 div.sk-estimator {\n",
       "  font-family: monospace;\n",
       "  border: 1px dotted var(--sklearn-color-border-box);\n",
       "  border-radius: 0.25em;\n",
       "  box-sizing: border-box;\n",
       "  margin-bottom: 0.5em;\n",
       "  /* unfitted */\n",
       "  background-color: var(--sklearn-color-unfitted-level-0);\n",
       "}\n",
       "\n",
       "#sk-container-id-6 div.sk-estimator.fitted {\n",
       "  /* fitted */\n",
       "  background-color: var(--sklearn-color-fitted-level-0);\n",
       "}\n",
       "\n",
       "/* on hover */\n",
       "#sk-container-id-6 div.sk-estimator:hover {\n",
       "  /* unfitted */\n",
       "  background-color: var(--sklearn-color-unfitted-level-2);\n",
       "}\n",
       "\n",
       "#sk-container-id-6 div.sk-estimator.fitted:hover {\n",
       "  /* fitted */\n",
       "  background-color: var(--sklearn-color-fitted-level-2);\n",
       "}\n",
       "\n",
       "/* Specification for estimator info (e.g. \"i\" and \"?\") */\n",
       "\n",
       "/* Common style for \"i\" and \"?\" */\n",
       "\n",
       ".sk-estimator-doc-link,\n",
       "a:link.sk-estimator-doc-link,\n",
       "a:visited.sk-estimator-doc-link {\n",
       "  float: right;\n",
       "  font-size: smaller;\n",
       "  line-height: 1em;\n",
       "  font-family: monospace;\n",
       "  background-color: var(--sklearn-color-background);\n",
       "  border-radius: 1em;\n",
       "  height: 1em;\n",
       "  width: 1em;\n",
       "  text-decoration: none !important;\n",
       "  margin-left: 0.5em;\n",
       "  text-align: center;\n",
       "  /* unfitted */\n",
       "  border: var(--sklearn-color-unfitted-level-1) 1pt solid;\n",
       "  color: var(--sklearn-color-unfitted-level-1);\n",
       "}\n",
       "\n",
       ".sk-estimator-doc-link.fitted,\n",
       "a:link.sk-estimator-doc-link.fitted,\n",
       "a:visited.sk-estimator-doc-link.fitted {\n",
       "  /* fitted */\n",
       "  border: var(--sklearn-color-fitted-level-1) 1pt solid;\n",
       "  color: var(--sklearn-color-fitted-level-1);\n",
       "}\n",
       "\n",
       "/* On hover */\n",
       "div.sk-estimator:hover .sk-estimator-doc-link:hover,\n",
       ".sk-estimator-doc-link:hover,\n",
       "div.sk-label-container:hover .sk-estimator-doc-link:hover,\n",
       ".sk-estimator-doc-link:hover {\n",
       "  /* unfitted */\n",
       "  background-color: var(--sklearn-color-unfitted-level-3);\n",
       "  color: var(--sklearn-color-background);\n",
       "  text-decoration: none;\n",
       "}\n",
       "\n",
       "div.sk-estimator.fitted:hover .sk-estimator-doc-link.fitted:hover,\n",
       ".sk-estimator-doc-link.fitted:hover,\n",
       "div.sk-label-container:hover .sk-estimator-doc-link.fitted:hover,\n",
       ".sk-estimator-doc-link.fitted:hover {\n",
       "  /* fitted */\n",
       "  background-color: var(--sklearn-color-fitted-level-3);\n",
       "  color: var(--sklearn-color-background);\n",
       "  text-decoration: none;\n",
       "}\n",
       "\n",
       "/* Span, style for the box shown on hovering the info icon */\n",
       ".sk-estimator-doc-link span {\n",
       "  display: none;\n",
       "  z-index: 9999;\n",
       "  position: relative;\n",
       "  font-weight: normal;\n",
       "  right: .2ex;\n",
       "  padding: .5ex;\n",
       "  margin: .5ex;\n",
       "  width: min-content;\n",
       "  min-width: 20ex;\n",
       "  max-width: 50ex;\n",
       "  color: var(--sklearn-color-text);\n",
       "  box-shadow: 2pt 2pt 4pt #999;\n",
       "  /* unfitted */\n",
       "  background: var(--sklearn-color-unfitted-level-0);\n",
       "  border: .5pt solid var(--sklearn-color-unfitted-level-3);\n",
       "}\n",
       "\n",
       ".sk-estimator-doc-link.fitted span {\n",
       "  /* fitted */\n",
       "  background: var(--sklearn-color-fitted-level-0);\n",
       "  border: var(--sklearn-color-fitted-level-3);\n",
       "}\n",
       "\n",
       ".sk-estimator-doc-link:hover span {\n",
       "  display: block;\n",
       "}\n",
       "\n",
       "/* \"?\"-specific style due to the `<a>` HTML tag */\n",
       "\n",
       "#sk-container-id-6 a.estimator_doc_link {\n",
       "  float: right;\n",
       "  font-size: 1rem;\n",
       "  line-height: 1em;\n",
       "  font-family: monospace;\n",
       "  background-color: var(--sklearn-color-background);\n",
       "  border-radius: 1rem;\n",
       "  height: 1rem;\n",
       "  width: 1rem;\n",
       "  text-decoration: none;\n",
       "  /* unfitted */\n",
       "  color: var(--sklearn-color-unfitted-level-1);\n",
       "  border: var(--sklearn-color-unfitted-level-1) 1pt solid;\n",
       "}\n",
       "\n",
       "#sk-container-id-6 a.estimator_doc_link.fitted {\n",
       "  /* fitted */\n",
       "  border: var(--sklearn-color-fitted-level-1) 1pt solid;\n",
       "  color: var(--sklearn-color-fitted-level-1);\n",
       "}\n",
       "\n",
       "/* On hover */\n",
       "#sk-container-id-6 a.estimator_doc_link:hover {\n",
       "  /* unfitted */\n",
       "  background-color: var(--sklearn-color-unfitted-level-3);\n",
       "  color: var(--sklearn-color-background);\n",
       "  text-decoration: none;\n",
       "}\n",
       "\n",
       "#sk-container-id-6 a.estimator_doc_link.fitted:hover {\n",
       "  /* fitted */\n",
       "  background-color: var(--sklearn-color-fitted-level-3);\n",
       "}\n",
       "</style><div id=\"sk-container-id-6\" class=\"sk-top-container\"><div class=\"sk-text-repr-fallback\"><pre>LinearRegression()</pre><b>In a Jupyter environment, please rerun this cell to show the HTML representation or trust the notebook. <br />On GitHub, the HTML representation is unable to render, please try loading this page with nbviewer.org.</b></div><div class=\"sk-container\" hidden><div class=\"sk-item\"><div class=\"sk-estimator fitted sk-toggleable\"><input class=\"sk-toggleable__control sk-hidden--visually\" id=\"sk-estimator-id-6\" type=\"checkbox\" checked><label for=\"sk-estimator-id-6\" class=\"sk-toggleable__label fitted sk-toggleable__label-arrow\"><div><div>LinearRegression</div></div><div><a class=\"sk-estimator-doc-link fitted\" rel=\"noreferrer\" target=\"_blank\" href=\"https://scikit-learn.org/1.6/modules/generated/sklearn.linear_model.LinearRegression.html\">?<span>Documentation for LinearRegression</span></a><span class=\"sk-estimator-doc-link fitted\">i<span>Fitted</span></span></div></label><div class=\"sk-toggleable__content fitted\"><pre>LinearRegression()</pre></div> </div></div></div></div>"
      ],
      "text/plain": [
       "LinearRegression()"
      ]
     },
     "execution_count": 161,
     "metadata": {},
     "output_type": "execute_result"
    }
   ],
   "source": [
    "## Train the model\n",
    "## linear regression model\n",
    "model = LinearRegression()\n",
    "model.fit(X_train, y_train)\n",
    "## random forest model\n",
    "# model = RandomForestRegressor()\n",
    "# model.fit(X_train, y_train)\n",
    "## naive bayes model\n",
    "# model = GaussianNB()\n",
    "# model.fit(X_train, y_train)"
   ]
  },
  {
   "cell_type": "markdown",
   "metadata": {},
   "source": [
    "# III. Model Evaluation"
   ]
  },
  {
   "cell_type": "code",
   "execution_count": 162,
   "metadata": {},
   "outputs": [],
   "source": [
    "# Predict on the test set\n",
    "y_pred = model.predict(X_test)"
   ]
  },
  {
   "cell_type": "code",
   "execution_count": 163,
   "metadata": {},
   "outputs": [
    {
     "name": "stdout",
     "output_type": "stream",
     "text": [
      "R²: 0.7547099855998856\n"
     ]
    }
   ],
   "source": [
    "# Calculate R²\n",
    "r2 = r2_score(y_test, y_pred)\n",
    "print(f\"R²: {r2}\")"
   ]
  },
  {
   "cell_type": "code",
   "execution_count": 164,
   "metadata": {},
   "outputs": [
    {
     "name": "stdout",
     "output_type": "stream",
     "text": [
      "MSE: 0.11779006851798203\n"
     ]
    }
   ],
   "source": [
    "# Calculate Mean Squared Error (MSE)\n",
    "mse = mean_squared_error(y_test, y_pred)\n",
    "print(f\"MSE: {mse}\")"
   ]
  },
  {
   "cell_type": "code",
   "execution_count": 165,
   "metadata": {},
   "outputs": [
    {
     "name": "stdout",
     "output_type": "stream",
     "text": [
      "MAE: 0.2530358964108538\n"
     ]
    }
   ],
   "source": [
    "# Calculate Mean Absolute Error (MAE)\n",
    "mae = mean_absolute_error(y_test, y_pred)\n",
    "print(f\"MAE: {mae}\")"
   ]
  },
  {
   "cell_type": "markdown",
   "metadata": {},
   "source": [
    "# IV. Correction"
   ]
  },
  {
   "cell_type": "code",
   "execution_count": 166,
   "metadata": {},
   "outputs": [
    {
     "name": "stdout",
     "output_type": "stream",
     "text": [
      "(169, 218)\n",
      "(169,)\n",
      "   1 Pair of Jeans (Levis 501 Or Similar)  \\\n",
      "0                                   72.05   \n",
      "1                                   58.05   \n",
      "2                                   34.39   \n",
      "3                                   99.50   \n",
      "4                                   97.67   \n",
      "\n",
      "   1 Pair of Men Leather Business Shoes  \\\n",
      "0                                 82.35   \n",
      "1                                129.83   \n",
      "2                                 67.21   \n",
      "3                                128.67   \n",
      "4                                254.73   \n",
      "\n",
      "   1 Pair of Nike Running Shoes (Mid-Range)  \\\n",
      "0                                     85.78   \n",
      "1                                     96.12   \n",
      "2                                     64.63   \n",
      "3                                    113.23   \n",
      "4                                    129.43   \n",
      "\n",
      "   1 Summer Dress in a Chain Store (Zara, H&M, ...)  \\\n",
      "0                                             29.16   \n",
      "1                                             44.94   \n",
      "2                                             42.92   \n",
      "3                                             39.88   \n",
      "4                                             79.01   \n",
      "\n",
      "   Apartment (1 bedroom) Outside of Centre  \\\n",
      "0                                   470.91   \n",
      "1                                   358.34   \n",
      "2                                   101.04   \n",
      "3                                   844.04   \n",
      "4                                   291.21   \n",
      "\n",
      "   Apartment (1 bedroom) in City Centre  \\\n",
      "0                                597.01   \n",
      "1                                514.20   \n",
      "2                                163.90   \n",
      "3                               1044.76   \n",
      "4                                591.32   \n",
      "\n",
      "   Apartment (3 bedrooms) Outside of Centre  \\\n",
      "0                                    759.12   \n",
      "1                                    604.54   \n",
      "2                                    178.88   \n",
      "3                                   1749.84   \n",
      "4                                   1348.29   \n",
      "\n",
      "   Apartment (3 bedrooms) in City Centre  Apples (1kg)  \\\n",
      "0                                1029.32          2.58   \n",
      "1                                 941.41          1.31   \n",
      "2                                 276.62          2.90   \n",
      "3                                1924.83          2.47   \n",
      "4                                2348.73          2.43   \n",
      "\n",
      "   Average Monthly Net Salary (After Tax)  ...  Pays_United_Arab_Emirates  \\\n",
      "0                                 2315.97  ...                      False   \n",
      "1                                  628.85  ...                      False   \n",
      "2                                  279.76  ...                      False   \n",
      "3                                 2466.66  ...                      False   \n",
      "4                                 3589.66  ...                      False   \n",
      "\n",
      "   Pays_United_Kingdom  Pays_United_States  Pays_Uruguay  \\\n",
      "0                False               False         False   \n",
      "1                False               False         False   \n",
      "2                False               False         False   \n",
      "3                False               False         False   \n",
      "4                False               False         False   \n",
      "\n",
      "   Pays_Us_Virgin_Islands  Pays_Uzbekistan  Pays_Venezuela  Pays_Vietnam  \\\n",
      "0                   False            False           False         False   \n",
      "1                   False            False           False         False   \n",
      "2                   False            False           False         False   \n",
      "3                   False            False           False         False   \n",
      "4                   False            False           False         False   \n",
      "\n",
      "   Pays_Zambia  Pays_Zimbabwe  \n",
      "0        False          False  \n",
      "1        False          False  \n",
      "2        False          False  \n",
      "3        False          False  \n",
      "4        False          False  \n",
      "\n",
      "[5 rows x 218 columns]\n",
      "0    1.64\n",
      "1    0.64\n",
      "2    0.29\n",
      "3    0.75\n",
      "4    0.44\n",
      "Name: Water (1.5 liter bottle), dtype: float64\n"
     ]
    }
   ],
   "source": [
    "print(X.shape)\n",
    "print(y.shape)\n",
    "print(X.head())\n",
    "print(y.head())"
   ]
  },
  {
   "cell_type": "code",
   "execution_count": 167,
   "metadata": {},
   "outputs": [
    {
     "data": {
      "image/png": "[encoded data removed]",
      "text/plain": [
       "<Figure size 640x480 with 1 Axes>"
      ]
     },
     "metadata": {},
     "output_type": "display_data"
    }
   ],
   "source": [
    "import matplotlib.pyplot as plt\n",
    "import seaborn as sns\n",
    "import numpy as np\n",
    "\n",
    "sns.boxplot(y)\n",
    "plt.show()"
   ]
  },
  {
   "cell_type": "markdown",
   "metadata": {},
   "source": [
    "### Correlation"
   ]
  },
  {
   "cell_type": "code",
   "execution_count": 168,
   "metadata": {},
   "outputs": [
    {
     "name": "stdout",
     "output_type": "stream",
     "text": [
      "Average Monthly Net Salary (After Tax)   -0.500480\n",
      "Cinema, International Release, 1 Seat    -0.506265\n",
      "Coke/Pepsi (0.33 liter bottle)           -0.563829\n",
      "Meal, Inexpensive Restaurant             -0.518769\n",
      "One-way Ticket (Local Transport)         -0.521945\n",
      "Pollution_index_Exp                       1.000000\n",
      "Name: Pollution_index_Exp, dtype: float64\n"
     ]
    }
   ],
   "source": [
    "# Check for Correlation\n",
    "correlation = df_combined.corr()\n",
    "print(correlation[pollution_data][abs(correlation[pollution_data]) > 0.5])"
   ]
  },
  {
   "cell_type": "code",
   "execution_count": 169,
   "metadata": {},
   "outputs": [
    {
     "data": {
      "image/png": "[encoded data removed]",
      "text/plain": [
       "<Figure size 640x480 with 1 Axes>"
      ]
     },
     "metadata": {},
     "output_type": "display_data"
    }
   ],
   "source": [
    "# Inspect the Target Variable (y)\n",
    "sns.histplot(y, kde=True)\n",
    "plt.show()"
   ]
  },
  {
   "cell_type": "code",
   "execution_count": 170,
   "metadata": {},
   "outputs": [
    {
     "name": "stdout",
     "output_type": "stream",
     "text": [
      "[ 1.68175795e-16  2.62774680e-17 -2.10219744e-17  3.04818629e-16\n",
      "  1.15620859e-16 -4.46716957e-17 -1.62920302e-16  1.05109872e-17\n",
      "  3.25840604e-16  7.35769105e-17 -1.10036897e-16  4.72994425e-17\n",
      "  1.10365366e-16 -1.57664808e-17 -2.10219744e-16  1.47153821e-16\n",
      "  4.20439489e-17 -6.30659233e-17 -9.98543785e-17  6.30659233e-17\n",
      " -4.72994425e-17  4.46716957e-17  6.83214169e-17  1.05109872e-16\n",
      " -9.45988849e-17  2.52263693e-16  1.57664808e-17 -3.15329616e-17\n",
      " -4.83505412e-16  2.10219744e-17  1.68175795e-16 -1.99708757e-16\n",
      " -1.05109872e-16 -1.05109872e-17  8.40878977e-17 -3.25840604e-16\n",
      " -3.46862578e-16  2.10219744e-16 -8.14601509e-17 -3.15329616e-17\n",
      "  1.05109872e-17 -3.99417514e-16 -1.05109872e-17  2.20730732e-16\n",
      "  3.15329616e-17  3.67884553e-16 -3.15329616e-17 -2.36497212e-17\n",
      " -1.83942276e-17  3.36351591e-16  1.57664808e-17  1.57664808e-17\n",
      "  1.57664808e-17  1.57664808e-17  1.57664808e-17  1.57664808e-17\n",
      "  1.57664808e-17  1.57664808e-17  1.57664808e-17  1.57664808e-17\n",
      "  1.57664808e-17  1.57664808e-17  1.57664808e-17  1.57664808e-17\n",
      "  1.57664808e-17  1.57664808e-17  1.57664808e-17  1.57664808e-17\n",
      "  1.57664808e-17  1.57664808e-17  1.57664808e-17  1.57664808e-17\n",
      "  1.57664808e-17  1.57664808e-17  1.57664808e-17  1.57664808e-17\n",
      "  1.57664808e-17  1.57664808e-17  1.57664808e-17  1.57664808e-17\n",
      "  1.57664808e-17  1.57664808e-17  1.57664808e-17  1.57664808e-17\n",
      "  1.57664808e-17  1.57664808e-17  1.57664808e-17  1.57664808e-17\n",
      "  1.57664808e-17  1.57664808e-17  1.57664808e-17  1.57664808e-17\n",
      "  1.57664808e-17  1.57664808e-17  1.57664808e-17  1.57664808e-17\n",
      "  1.57664808e-17  1.57664808e-17  1.57664808e-17  1.57664808e-17\n",
      "  1.57664808e-17  1.57664808e-17  1.57664808e-17  1.57664808e-17\n",
      "  1.57664808e-17  1.57664808e-17  1.57664808e-17  1.57664808e-17\n",
      "  1.57664808e-17  1.57664808e-17  1.57664808e-17  1.57664808e-17\n",
      "  1.57664808e-17  1.57664808e-17  1.57664808e-17  1.57664808e-17\n",
      "  1.57664808e-17  1.57664808e-17  1.57664808e-17  1.57664808e-17\n",
      "  1.57664808e-17  1.57664808e-17  1.57664808e-17  1.57664808e-17\n",
      "  1.57664808e-17  1.57664808e-17  1.57664808e-17  1.57664808e-17\n",
      "  1.57664808e-17  1.05109872e-17  1.05109872e-17  1.05109872e-17\n",
      "  1.05109872e-17  1.05109872e-17  1.05109872e-17  1.05109872e-17\n",
      "  1.05109872e-17  1.05109872e-17  1.05109872e-17  1.05109872e-17\n",
      "  1.05109872e-17  1.05109872e-17  1.05109872e-17  1.05109872e-17\n",
      "  1.05109872e-17  1.05109872e-17  1.05109872e-17  1.05109872e-17\n",
      "  1.05109872e-17  1.05109872e-17  1.05109872e-17  1.05109872e-17\n",
      "  1.05109872e-17  1.57664808e-17  1.57664808e-17  1.57664808e-17\n",
      "  1.57664808e-17  1.57664808e-17  1.57664808e-17  1.57664808e-17\n",
      "  1.57664808e-17  1.57664808e-17  1.57664808e-17  1.57664808e-17\n",
      "  1.57664808e-17  1.57664808e-17  1.57664808e-17  1.57664808e-17\n",
      "  1.57664808e-17  1.57664808e-17  1.57664808e-17  1.57664808e-17\n",
      "  1.57664808e-17  1.57664808e-17  1.57664808e-17  1.57664808e-17\n",
      "  1.57664808e-17  1.57664808e-17  1.57664808e-17  1.57664808e-17\n",
      "  1.57664808e-17  1.57664808e-17  1.57664808e-17  1.57664808e-17\n",
      "  1.57664808e-17  1.57664808e-17  1.57664808e-17  1.57664808e-17\n",
      "  1.57664808e-17  1.57664808e-17  1.57664808e-17  1.57664808e-17\n",
      "  1.57664808e-17  1.57664808e-17  1.57664808e-17  1.57664808e-17\n",
      "  1.57664808e-17  1.57664808e-17  1.57664808e-17  1.57664808e-17\n",
      "  1.57664808e-17  1.57664808e-17  1.57664808e-17  1.57664808e-17\n",
      "  1.57664808e-17  1.57664808e-17  1.57664808e-17  1.57664808e-17\n",
      "  1.57664808e-17  1.57664808e-17  1.57664808e-17  1.57664808e-17\n",
      "  1.57664808e-17  1.57664808e-17  1.57664808e-17  1.57664808e-17\n",
      "  1.57664808e-17  1.05109872e-17]\n",
      "[1. 1. 1. 1. 1. 1. 1. 1. 1. 1. 1. 1. 1. 1. 1. 1. 1. 1. 1. 1. 1. 1. 1. 1.\n",
      " 1. 1. 1. 1. 1. 1. 1. 1. 1. 1. 1. 1. 1. 1. 1. 1. 1. 1. 1. 1. 1. 1. 1. 1.\n",
      " 1. 1. 1. 1. 1. 1. 1. 1. 1. 1. 1. 1. 1. 1. 1. 1. 1. 1. 1. 1. 1. 1. 1. 1.\n",
      " 1. 1. 1. 1. 1. 1. 1. 1. 1. 1. 1. 1. 1. 1. 1. 1. 1. 1. 1. 1. 1. 1. 1. 1.\n",
      " 1. 1. 1. 1. 1. 1. 1. 1. 1. 1. 1. 1. 1. 1. 1. 1. 1. 1. 1. 1. 1. 1. 1. 1.\n",
      " 1. 1. 1. 1. 1. 1. 1. 1. 1. 1. 1. 1. 1. 1. 1. 1. 1. 1. 1. 1. 1. 1. 1. 1.\n",
      " 1. 1. 1. 1. 1. 1. 1. 1. 1. 1. 1. 1. 1. 1. 1. 1. 1. 1. 1. 1. 1. 1. 1. 1.\n",
      " 1. 1. 1. 1. 1. 1. 1. 1. 1. 1. 1. 1. 1. 1. 1. 1. 1. 1. 1. 1. 1. 1. 1. 1.\n",
      " 1. 1. 1. 1. 1. 1. 1. 1. 1. 1. 1. 1. 1. 1. 1. 1. 1. 1. 1. 1. 1. 1. 1. 1.\n",
      " 1. 1.]\n"
     ]
    }
   ],
   "source": [
    "# Check feature scaling\n",
    "print(X_scaled.mean(axis=0))  # Should be close to 0\n",
    "print(X_scaled.std(axis=0))  # Should be close to 1"
   ]
  }
 ],
 "metadata": {
  "kernelspec": {
   "display_name": "local",
   "language": "python",
   "name": "python3"
  },
  "language_info": {
   "codemirror_mode": {
    "name": "ipython",
    "version": 3
   },
   "file_extension": ".py",
   "mimetype": "text/x-python",
   "name": "python",
   "nbconvert_exporter": "python",
   "pygments_lexer": "ipython3",
   "version": "3.12.8"
  }
 },
 "nbformat": 4,
 "nbformat_minor": 2
}
