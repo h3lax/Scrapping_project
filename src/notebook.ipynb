{
 "cells": [
  {
   "cell_type": "markdown",
   "metadata": {},
   "source": [
    "# I. Import & config"
   ]
  },
  {
   "cell_type": "markdown",
   "metadata": {},
   "source": [
    "### Pour sauver le notebook on rajoute un if avant nos scripts pour s'assurer qu'ils ne seront exécutés que lorsqu'on les lance directement et pas dans les imports !\n",
    "```python\n",
    "if __name__ = '__main__':\n",
    "    etc...\n",
    "```"
   ]
  },
  {
   "cell_type": "code",
   "execution_count": 129,
   "metadata": {},
   "outputs": [],
   "source": [
    "import requests\n",
    "from bs4 import BeautifulSoup\n",
    "import pandas as pd\n",
    "import re\n",
    "import os"
   ]
  },
  {
   "cell_type": "code",
   "execution_count": 130,
   "metadata": {},
   "outputs": [],
   "source": [
    "headers = {\n",
    "    'User-Agent':'Mozilla/5.0 (X11; Linux x86_64) AppleWebKit/537.36 (KHTML, like Gecko) Chrome/131.0.0.0 Safari/537.3'\n",
    "}"
   ]
  },
  {
   "cell_type": "markdown",
   "metadata": {},
   "source": [
    "# II. Get Data"
   ]
  },
  {
   "cell_type": "code",
   "execution_count": 133,
   "metadata": {},
   "outputs": [],
   "source": [
    "csv_file = '../data/bronze/CostOfLiving_urls.csv'\n",
    "df_urls = pd.read_csv(csv_file)"
   ]
  },
  {
   "cell_type": "code",
   "execution_count": 134,
   "metadata": {},
   "outputs": [
    {
     "name": "stdout",
     "output_type": "stream",
     "text": [
      "https://www.numbeo.com/cost-of-living/country_result.jsp?country=Afghanistan&displayCurrency=USD\n",
      "https://www.numbeo.com/cost-of-living/country_result.jsp?country=Aland+Islands&displayCurrency=USD\n",
      "https://www.numbeo.com/cost-of-living/country_result.jsp?country=Albania&displayCurrency=USD\n",
      "https://www.numbeo.com/cost-of-living/country_result.jsp?country=Alderney&displayCurrency=USD\n",
      "https://www.numbeo.com/cost-of-living/country_result.jsp?country=Algeria&displayCurrency=USD\n",
      "https://www.numbeo.com/cost-of-living/country_result.jsp?country=American+Samoa&displayCurrency=USD\n",
      "https://www.numbeo.com/cost-of-living/country_result.jsp?country=Andorra&displayCurrency=USD\n",
      "https://www.numbeo.com/cost-of-living/country_result.jsp?country=Angola&displayCurrency=USD\n",
      "https://www.numbeo.com/cost-of-living/country_result.jsp?country=Anguilla&displayCurrency=USD\n",
      "https://www.numbeo.com/cost-of-living/country_result.jsp?country=Antigua+And+Barbuda&displayCurrency=USD\n",
      "https://www.numbeo.com/cost-of-living/country_result.jsp?country=Argentina&displayCurrency=USD\n",
      "https://www.numbeo.com/cost-of-living/country_result.jsp?country=Armenia&displayCurrency=USD\n",
      "https://www.numbeo.com/cost-of-living/country_result.jsp?country=Aruba&displayCurrency=USD\n",
      "https://www.numbeo.com/cost-of-living/country_result.jsp?country=Australia&displayCurrency=USD\n",
      "https://www.numbeo.com/cost-of-living/country_result.jsp?country=Austria&displayCurrency=USD\n",
      "https://www.numbeo.com/cost-of-living/country_result.jsp?country=Azerbaijan&displayCurrency=USD\n",
      "https://www.numbeo.com/cost-of-living/country_result.jsp?country=Bahamas&displayCurrency=USD\n",
      "https://www.numbeo.com/cost-of-living/country_result.jsp?country=Bahrain&displayCurrency=USD\n",
      "https://www.numbeo.com/cost-of-living/country_result.jsp?country=Bangladesh&displayCurrency=USD\n",
      "https://www.numbeo.com/cost-of-living/country_result.jsp?country=Barbados&displayCurrency=USD\n",
      "https://www.numbeo.com/cost-of-living/country_result.jsp?country=Belarus&displayCurrency=USD\n",
      "https://www.numbeo.com/cost-of-living/country_result.jsp?country=Belgium&displayCurrency=USD\n",
      "https://www.numbeo.com/cost-of-living/country_result.jsp?country=Belize&displayCurrency=USD\n",
      "https://www.numbeo.com/cost-of-living/country_result.jsp?country=Benin&displayCurrency=USD\n",
      "https://www.numbeo.com/cost-of-living/country_result.jsp?country=Bermuda&displayCurrency=USD\n",
      "https://www.numbeo.com/cost-of-living/country_result.jsp?country=Bhutan&displayCurrency=USD\n",
      "https://www.numbeo.com/cost-of-living/country_result.jsp?country=Bolivia&displayCurrency=USD\n",
      "https://www.numbeo.com/cost-of-living/country_result.jsp?country=Bonaire&displayCurrency=USD\n",
      "https://www.numbeo.com/cost-of-living/country_result.jsp?country=Bosnia+And+Herzegovina&displayCurrency=USD\n",
      "https://www.numbeo.com/cost-of-living/country_result.jsp?country=Botswana&displayCurrency=USD\n",
      "https://www.numbeo.com/cost-of-living/country_result.jsp?country=Brazil&displayCurrency=USD\n",
      "https://www.numbeo.com/cost-of-living/country_result.jsp?country=British+Virgin+Islands&displayCurrency=USD\n",
      "https://www.numbeo.com/cost-of-living/country_result.jsp?country=Brunei&displayCurrency=USD\n",
      "https://www.numbeo.com/cost-of-living/country_result.jsp?country=Bulgaria&displayCurrency=USD\n",
      "https://www.numbeo.com/cost-of-living/country_result.jsp?country=Burkina+Faso&displayCurrency=USD\n",
      "https://www.numbeo.com/cost-of-living/country_result.jsp?country=Burundi&displayCurrency=USD\n",
      "https://www.numbeo.com/cost-of-living/country_result.jsp?country=Cambodia&displayCurrency=USD\n",
      "https://www.numbeo.com/cost-of-living/country_result.jsp?country=Cameroon&displayCurrency=USD\n",
      "https://www.numbeo.com/cost-of-living/country_result.jsp?country=Canada&displayCurrency=USD\n",
      "https://www.numbeo.com/cost-of-living/country_result.jsp?country=Cape+Verde&displayCurrency=USD\n",
      "https://www.numbeo.com/cost-of-living/country_result.jsp?country=Cayman+Islands&displayCurrency=USD\n",
      "https://www.numbeo.com/cost-of-living/country_result.jsp?country=Central+African+Republic&displayCurrency=USD\n",
      "https://www.numbeo.com/cost-of-living/country_result.jsp?country=Chad&displayCurrency=USD\n",
      "https://www.numbeo.com/cost-of-living/country_result.jsp?country=Chile&displayCurrency=USD\n",
      "https://www.numbeo.com/cost-of-living/country_result.jsp?country=China&displayCurrency=USD\n",
      "https://www.numbeo.com/cost-of-living/country_result.jsp?country=Colombia&displayCurrency=USD\n",
      "https://www.numbeo.com/cost-of-living/country_result.jsp?country=Comoros&displayCurrency=USD\n",
      "https://www.numbeo.com/cost-of-living/country_result.jsp?country=Cook+Islands&displayCurrency=USD\n",
      "https://www.numbeo.com/cost-of-living/country_result.jsp?country=Costa+Rica&displayCurrency=USD\n",
      "https://www.numbeo.com/cost-of-living/country_result.jsp?country=Croatia&displayCurrency=USD\n",
      "https://www.numbeo.com/cost-of-living/country_result.jsp?country=Cuba&displayCurrency=USD\n",
      "https://www.numbeo.com/cost-of-living/country_result.jsp?country=Curacao&displayCurrency=USD\n",
      "https://www.numbeo.com/cost-of-living/country_result.jsp?country=Cyprus&displayCurrency=USD\n",
      "https://www.numbeo.com/cost-of-living/country_result.jsp?country=Czech+Republic&displayCurrency=USD\n",
      "https://www.numbeo.com/cost-of-living/country_result.jsp?country=Democratic+Republic+of+the+Congo&displayCurrency=USD\n",
      "https://www.numbeo.com/cost-of-living/country_result.jsp?country=Denmark&displayCurrency=USD\n",
      "https://www.numbeo.com/cost-of-living/country_result.jsp?country=Djibouti&displayCurrency=USD\n",
      "https://www.numbeo.com/cost-of-living/country_result.jsp?country=Dominica&displayCurrency=USD\n",
      "https://www.numbeo.com/cost-of-living/country_result.jsp?country=Dominican+Republic&displayCurrency=USD\n",
      "https://www.numbeo.com/cost-of-living/country_result.jsp?country=Ecuador&displayCurrency=USD\n",
      "https://www.numbeo.com/cost-of-living/country_result.jsp?country=Egypt&displayCurrency=USD\n",
      "https://www.numbeo.com/cost-of-living/country_result.jsp?country=El+Salvador&displayCurrency=USD\n",
      "https://www.numbeo.com/cost-of-living/country_result.jsp?country=Equatorial+Guinea&displayCurrency=USD\n",
      "https://www.numbeo.com/cost-of-living/country_result.jsp?country=Eritrea&displayCurrency=USD\n",
      "https://www.numbeo.com/cost-of-living/country_result.jsp?country=Estonia&displayCurrency=USD\n",
      "https://www.numbeo.com/cost-of-living/country_result.jsp?country=Eswatini&displayCurrency=USD\n",
      "https://www.numbeo.com/cost-of-living/country_result.jsp?country=Ethiopia&displayCurrency=USD\n",
      "https://www.numbeo.com/cost-of-living/country_result.jsp?country=Falkland+Islands&displayCurrency=USD\n",
      "https://www.numbeo.com/cost-of-living/country_result.jsp?country=Faroe+Islands&displayCurrency=USD\n",
      "https://www.numbeo.com/cost-of-living/country_result.jsp?country=Fiji&displayCurrency=USD\n",
      "https://www.numbeo.com/cost-of-living/country_result.jsp?country=Finland&displayCurrency=USD\n",
      "https://www.numbeo.com/cost-of-living/country_result.jsp?country=France&displayCurrency=USD\n",
      "https://www.numbeo.com/cost-of-living/country_result.jsp?country=French+Guiana&displayCurrency=USD\n",
      "https://www.numbeo.com/cost-of-living/country_result.jsp?country=French+Polynesia&displayCurrency=USD\n",
      "https://www.numbeo.com/cost-of-living/country_result.jsp?country=French+Southern+Territories&displayCurrency=USD\n",
      "https://www.numbeo.com/cost-of-living/country_result.jsp?country=Gabon&displayCurrency=USD\n",
      "https://www.numbeo.com/cost-of-living/country_result.jsp?country=Gambia&displayCurrency=USD\n",
      "https://www.numbeo.com/cost-of-living/country_result.jsp?country=Georgia&displayCurrency=USD\n",
      "https://www.numbeo.com/cost-of-living/country_result.jsp?country=Germany&displayCurrency=USD\n",
      "https://www.numbeo.com/cost-of-living/country_result.jsp?country=Ghana&displayCurrency=USD\n",
      "https://www.numbeo.com/cost-of-living/country_result.jsp?country=Gibraltar&displayCurrency=USD\n",
      "https://www.numbeo.com/cost-of-living/country_result.jsp?country=Greece&displayCurrency=USD\n",
      "https://www.numbeo.com/cost-of-living/country_result.jsp?country=Greenland&displayCurrency=USD\n",
      "https://www.numbeo.com/cost-of-living/country_result.jsp?country=Grenada&displayCurrency=USD\n",
      "https://www.numbeo.com/cost-of-living/country_result.jsp?country=Guadeloupe&displayCurrency=USD\n",
      "https://www.numbeo.com/cost-of-living/country_result.jsp?country=Guam&displayCurrency=USD\n",
      "https://www.numbeo.com/cost-of-living/country_result.jsp?country=Guatemala&displayCurrency=USD\n",
      "https://www.numbeo.com/cost-of-living/country_result.jsp?country=Guernsey&displayCurrency=USD\n",
      "https://www.numbeo.com/cost-of-living/country_result.jsp?country=Guinea&displayCurrency=USD\n",
      "https://www.numbeo.com/cost-of-living/country_result.jsp?country=Guinea-Bissau&displayCurrency=USD\n",
      "https://www.numbeo.com/cost-of-living/country_result.jsp?country=Guyana&displayCurrency=USD\n",
      "https://www.numbeo.com/cost-of-living/country_result.jsp?country=Haiti&displayCurrency=USD\n",
      "https://www.numbeo.com/cost-of-living/country_result.jsp?country=Honduras&displayCurrency=USD\n",
      "https://www.numbeo.com/cost-of-living/country_result.jsp?country=Hong+Kong+%28China%29&displayCurrency=USD\n",
      "https://www.numbeo.com/cost-of-living/country_result.jsp?country=Hungary&displayCurrency=USD\n",
      "https://www.numbeo.com/cost-of-living/country_result.jsp?country=Iceland&displayCurrency=USD\n",
      "https://www.numbeo.com/cost-of-living/country_result.jsp?country=India&displayCurrency=USD\n",
      "https://www.numbeo.com/cost-of-living/country_result.jsp?country=Indonesia&displayCurrency=USD\n",
      "https://www.numbeo.com/cost-of-living/country_result.jsp?country=Iran&displayCurrency=USD\n",
      "https://www.numbeo.com/cost-of-living/country_result.jsp?country=Iraq&displayCurrency=USD\n",
      "https://www.numbeo.com/cost-of-living/country_result.jsp?country=Ireland&displayCurrency=USD\n",
      "https://www.numbeo.com/cost-of-living/country_result.jsp?country=Isle+Of+Man&displayCurrency=USD\n",
      "https://www.numbeo.com/cost-of-living/country_result.jsp?country=Israel&displayCurrency=USD\n",
      "https://www.numbeo.com/cost-of-living/country_result.jsp?country=Italy&displayCurrency=USD\n",
      "https://www.numbeo.com/cost-of-living/country_result.jsp?country=Ivory+Coast&displayCurrency=USD\n",
      "https://www.numbeo.com/cost-of-living/country_result.jsp?country=Jamaica&displayCurrency=USD\n",
      "https://www.numbeo.com/cost-of-living/country_result.jsp?country=Japan&displayCurrency=USD\n",
      "https://www.numbeo.com/cost-of-living/country_result.jsp?country=Jersey&displayCurrency=USD\n",
      "https://www.numbeo.com/cost-of-living/country_result.jsp?country=Jordan&displayCurrency=USD\n",
      "https://www.numbeo.com/cost-of-living/country_result.jsp?country=Kazakhstan&displayCurrency=USD\n",
      "https://www.numbeo.com/cost-of-living/country_result.jsp?country=Kenya&displayCurrency=USD\n",
      "https://www.numbeo.com/cost-of-living/country_result.jsp?country=Kiribati&displayCurrency=USD\n",
      "https://www.numbeo.com/cost-of-living/country_result.jsp?country=Kosovo+%28Disputed+Territory%29&displayCurrency=USD\n",
      "https://www.numbeo.com/cost-of-living/country_result.jsp?country=Kuwait&displayCurrency=USD\n",
      "https://www.numbeo.com/cost-of-living/country_result.jsp?country=Kyrgyzstan&displayCurrency=USD\n",
      "https://www.numbeo.com/cost-of-living/country_result.jsp?country=Laos&displayCurrency=USD\n",
      "https://www.numbeo.com/cost-of-living/country_result.jsp?country=Latvia&displayCurrency=USD\n",
      "https://www.numbeo.com/cost-of-living/country_result.jsp?country=Lebanon&displayCurrency=USD\n",
      "https://www.numbeo.com/cost-of-living/country_result.jsp?country=Lesotho&displayCurrency=USD\n",
      "https://www.numbeo.com/cost-of-living/country_result.jsp?country=Liberia&displayCurrency=USD\n",
      "https://www.numbeo.com/cost-of-living/country_result.jsp?country=Libya&displayCurrency=USD\n",
      "https://www.numbeo.com/cost-of-living/country_result.jsp?country=Liechtenstein&displayCurrency=USD\n",
      "https://www.numbeo.com/cost-of-living/country_result.jsp?country=Lithuania&displayCurrency=USD\n",
      "https://www.numbeo.com/cost-of-living/country_result.jsp?country=Luxembourg&displayCurrency=USD\n",
      "https://www.numbeo.com/cost-of-living/country_result.jsp?country=Macao+%28China%29&displayCurrency=USD\n",
      "https://www.numbeo.com/cost-of-living/country_result.jsp?country=Madagascar&displayCurrency=USD\n",
      "https://www.numbeo.com/cost-of-living/country_result.jsp?country=Malawi&displayCurrency=USD\n",
      "https://www.numbeo.com/cost-of-living/country_result.jsp?country=Malaysia&displayCurrency=USD\n",
      "https://www.numbeo.com/cost-of-living/country_result.jsp?country=Maldives&displayCurrency=USD\n",
      "https://www.numbeo.com/cost-of-living/country_result.jsp?country=Mali&displayCurrency=USD\n",
      "https://www.numbeo.com/cost-of-living/country_result.jsp?country=Malta&displayCurrency=USD\n",
      "https://www.numbeo.com/cost-of-living/country_result.jsp?country=Marshall+Islands&displayCurrency=USD\n",
      "https://www.numbeo.com/cost-of-living/country_result.jsp?country=Martinique&displayCurrency=USD\n",
      "https://www.numbeo.com/cost-of-living/country_result.jsp?country=Mauritania&displayCurrency=USD\n",
      "https://www.numbeo.com/cost-of-living/country_result.jsp?country=Mauritius&displayCurrency=USD\n",
      "https://www.numbeo.com/cost-of-living/country_result.jsp?country=Mexico&displayCurrency=USD\n",
      "https://www.numbeo.com/cost-of-living/country_result.jsp?country=Micronesia&displayCurrency=USD\n",
      "https://www.numbeo.com/cost-of-living/country_result.jsp?country=Moldova&displayCurrency=USD\n",
      "https://www.numbeo.com/cost-of-living/country_result.jsp?country=Monaco&displayCurrency=USD\n",
      "https://www.numbeo.com/cost-of-living/country_result.jsp?country=Mongolia&displayCurrency=USD\n",
      "https://www.numbeo.com/cost-of-living/country_result.jsp?country=Montenegro&displayCurrency=USD\n",
      "https://www.numbeo.com/cost-of-living/country_result.jsp?country=Montserrat&displayCurrency=USD\n",
      "https://www.numbeo.com/cost-of-living/country_result.jsp?country=Morocco&displayCurrency=USD\n",
      "https://www.numbeo.com/cost-of-living/country_result.jsp?country=Mozambique&displayCurrency=USD\n",
      "https://www.numbeo.com/cost-of-living/country_result.jsp?country=Myanmar&displayCurrency=USD\n",
      "https://www.numbeo.com/cost-of-living/country_result.jsp?country=Namibia&displayCurrency=USD\n",
      "https://www.numbeo.com/cost-of-living/country_result.jsp?country=Nauru&displayCurrency=USD\n",
      "https://www.numbeo.com/cost-of-living/country_result.jsp?country=Nepal&displayCurrency=USD\n",
      "https://www.numbeo.com/cost-of-living/country_result.jsp?country=Netherlands&displayCurrency=USD\n",
      "https://www.numbeo.com/cost-of-living/country_result.jsp?country=New+Caledonia&displayCurrency=USD\n",
      "https://www.numbeo.com/cost-of-living/country_result.jsp?country=New+Zealand&displayCurrency=USD\n",
      "https://www.numbeo.com/cost-of-living/country_result.jsp?country=Nicaragua&displayCurrency=USD\n",
      "https://www.numbeo.com/cost-of-living/country_result.jsp?country=Niger&displayCurrency=USD\n",
      "https://www.numbeo.com/cost-of-living/country_result.jsp?country=Nigeria&displayCurrency=USD\n",
      "https://www.numbeo.com/cost-of-living/country_result.jsp?country=Niue&displayCurrency=USD\n",
      "https://www.numbeo.com/cost-of-living/country_result.jsp?country=North+Korea&displayCurrency=USD\n",
      "https://www.numbeo.com/cost-of-living/country_result.jsp?country=North+Macedonia&displayCurrency=USD\n",
      "https://www.numbeo.com/cost-of-living/country_result.jsp?country=Northern+Mariana+Islands&displayCurrency=USD\n",
      "https://www.numbeo.com/cost-of-living/country_result.jsp?country=Norway&displayCurrency=USD\n",
      "https://www.numbeo.com/cost-of-living/country_result.jsp?country=Oman&displayCurrency=USD\n",
      "https://www.numbeo.com/cost-of-living/country_result.jsp?country=Pakistan&displayCurrency=USD\n",
      "https://www.numbeo.com/cost-of-living/country_result.jsp?country=Palau&displayCurrency=USD\n",
      "https://www.numbeo.com/cost-of-living/country_result.jsp?country=Palestine&displayCurrency=USD\n",
      "https://www.numbeo.com/cost-of-living/country_result.jsp?country=Panama&displayCurrency=USD\n",
      "https://www.numbeo.com/cost-of-living/country_result.jsp?country=Papua+New+Guinea&displayCurrency=USD\n",
      "https://www.numbeo.com/cost-of-living/country_result.jsp?country=Paraguay&displayCurrency=USD\n",
      "https://www.numbeo.com/cost-of-living/country_result.jsp?country=Peru&displayCurrency=USD\n",
      "https://www.numbeo.com/cost-of-living/country_result.jsp?country=Philippines&displayCurrency=USD\n",
      "https://www.numbeo.com/cost-of-living/country_result.jsp?country=Poland&displayCurrency=USD\n",
      "https://www.numbeo.com/cost-of-living/country_result.jsp?country=Portugal&displayCurrency=USD\n",
      "https://www.numbeo.com/cost-of-living/country_result.jsp?country=Puerto+Rico&displayCurrency=USD\n",
      "https://www.numbeo.com/cost-of-living/country_result.jsp?country=Qatar&displayCurrency=USD\n",
      "https://www.numbeo.com/cost-of-living/country_result.jsp?country=Republic+of+the+Congo&displayCurrency=USD\n",
      "https://www.numbeo.com/cost-of-living/country_result.jsp?country=Reunion&displayCurrency=USD\n",
      "https://www.numbeo.com/cost-of-living/country_result.jsp?country=Romania&displayCurrency=USD\n",
      "https://www.numbeo.com/cost-of-living/country_result.jsp?country=Russia&displayCurrency=USD\n",
      "https://www.numbeo.com/cost-of-living/country_result.jsp?country=Rwanda&displayCurrency=USD\n",
      "https://www.numbeo.com/cost-of-living/country_result.jsp?country=Saint+Helena&displayCurrency=USD\n",
      "https://www.numbeo.com/cost-of-living/country_result.jsp?country=Saint+Kitts+And+Nevis&displayCurrency=USD\n",
      "https://www.numbeo.com/cost-of-living/country_result.jsp?country=Saint+Lucia&displayCurrency=USD\n",
      "https://www.numbeo.com/cost-of-living/country_result.jsp?country=Saint+Vincent+And+The+Grenadines&displayCurrency=USD\n",
      "https://www.numbeo.com/cost-of-living/country_result.jsp?country=Saint-Pierre+And+Miquelon&displayCurrency=USD\n",
      "https://www.numbeo.com/cost-of-living/country_result.jsp?country=Samoa&displayCurrency=USD\n",
      "https://www.numbeo.com/cost-of-living/country_result.jsp?country=San+Marino&displayCurrency=USD\n",
      "https://www.numbeo.com/cost-of-living/country_result.jsp?country=Sao+Tome+And+Principe&displayCurrency=USD\n",
      "https://www.numbeo.com/cost-of-living/country_result.jsp?country=Saudi+Arabia&displayCurrency=USD\n",
      "https://www.numbeo.com/cost-of-living/country_result.jsp?country=Senegal&displayCurrency=USD\n",
      "https://www.numbeo.com/cost-of-living/country_result.jsp?country=Serbia&displayCurrency=USD\n",
      "https://www.numbeo.com/cost-of-living/country_result.jsp?country=Seychelles&displayCurrency=USD\n",
      "https://www.numbeo.com/cost-of-living/country_result.jsp?country=Sierra+Leone&displayCurrency=USD\n",
      "https://www.numbeo.com/cost-of-living/country_result.jsp?country=Singapore&displayCurrency=USD\n",
      "https://www.numbeo.com/cost-of-living/country_result.jsp?country=Sint+Maarten&displayCurrency=USD\n",
      "https://www.numbeo.com/cost-of-living/country_result.jsp?country=Slovakia&displayCurrency=USD\n",
      "https://www.numbeo.com/cost-of-living/country_result.jsp?country=Slovenia&displayCurrency=USD\n",
      "https://www.numbeo.com/cost-of-living/country_result.jsp?country=Solomon+Islands&displayCurrency=USD\n",
      "https://www.numbeo.com/cost-of-living/country_result.jsp?country=Somalia&displayCurrency=USD\n",
      "https://www.numbeo.com/cost-of-living/country_result.jsp?country=South+Africa&displayCurrency=USD\n",
      "https://www.numbeo.com/cost-of-living/country_result.jsp?country=South+Korea&displayCurrency=USD\n",
      "https://www.numbeo.com/cost-of-living/country_result.jsp?country=South+Sudan&displayCurrency=USD\n",
      "https://www.numbeo.com/cost-of-living/country_result.jsp?country=Spain&displayCurrency=USD\n",
      "https://www.numbeo.com/cost-of-living/country_result.jsp?country=Sri+Lanka&displayCurrency=USD\n",
      "https://www.numbeo.com/cost-of-living/country_result.jsp?country=Sudan&displayCurrency=USD\n",
      "https://www.numbeo.com/cost-of-living/country_result.jsp?country=Suriname&displayCurrency=USD\n",
      "https://www.numbeo.com/cost-of-living/country_result.jsp?country=Sweden&displayCurrency=USD\n",
      "https://www.numbeo.com/cost-of-living/country_result.jsp?country=Switzerland&displayCurrency=USD\n",
      "https://www.numbeo.com/cost-of-living/country_result.jsp?country=Syria&displayCurrency=USD\n",
      "https://www.numbeo.com/cost-of-living/country_result.jsp?country=Taiwan&displayCurrency=USD\n",
      "https://www.numbeo.com/cost-of-living/country_result.jsp?country=Tajikistan&displayCurrency=USD\n",
      "https://www.numbeo.com/cost-of-living/country_result.jsp?country=Tanzania&displayCurrency=USD\n",
      "https://www.numbeo.com/cost-of-living/country_result.jsp?country=Thailand&displayCurrency=USD\n",
      "https://www.numbeo.com/cost-of-living/country_result.jsp?country=Timor-Leste&displayCurrency=USD\n",
      "https://www.numbeo.com/cost-of-living/country_result.jsp?country=Togo&displayCurrency=USD\n",
      "https://www.numbeo.com/cost-of-living/country_result.jsp?country=Tonga&displayCurrency=USD\n",
      "https://www.numbeo.com/cost-of-living/country_result.jsp?country=Trinidad+And+Tobago&displayCurrency=USD\n",
      "https://www.numbeo.com/cost-of-living/country_result.jsp?country=Tunisia&displayCurrency=USD\n",
      "https://www.numbeo.com/cost-of-living/country_result.jsp?country=Turkey&displayCurrency=USD\n",
      "https://www.numbeo.com/cost-of-living/country_result.jsp?country=Turkmenistan&displayCurrency=USD\n",
      "https://www.numbeo.com/cost-of-living/country_result.jsp?country=Turks+And+Caicos+Islands&displayCurrency=USD\n",
      "https://www.numbeo.com/cost-of-living/country_result.jsp?country=Uganda&displayCurrency=USD\n",
      "https://www.numbeo.com/cost-of-living/country_result.jsp?country=Ukraine&displayCurrency=USD\n",
      "https://www.numbeo.com/cost-of-living/country_result.jsp?country=United+Arab+Emirates&displayCurrency=USD\n",
      "https://www.numbeo.com/cost-of-living/country_result.jsp?country=United+Kingdom&displayCurrency=USD\n",
      "https://www.numbeo.com/cost-of-living/country_result.jsp?country=United+States&displayCurrency=USD\n",
      "https://www.numbeo.com/cost-of-living/country_result.jsp?country=Uruguay&displayCurrency=USD\n",
      "https://www.numbeo.com/cost-of-living/country_result.jsp?country=Us+Virgin+Islands&displayCurrency=USD\n",
      "https://www.numbeo.com/cost-of-living/country_result.jsp?country=Uzbekistan&displayCurrency=USD\n",
      "https://www.numbeo.com/cost-of-living/country_result.jsp?country=Vanuatu&displayCurrency=USD\n",
      "https://www.numbeo.com/cost-of-living/country_result.jsp?country=Venezuela&displayCurrency=USD\n",
      "https://www.numbeo.com/cost-of-living/country_result.jsp?country=Vietnam&displayCurrency=USD\n",
      "https://www.numbeo.com/cost-of-living/country_result.jsp?country=Wallis+And+Futuna&displayCurrency=USD\n",
      "https://www.numbeo.com/cost-of-living/country_result.jsp?country=Western+Sahara&displayCurrency=USD\n",
      "https://www.numbeo.com/cost-of-living/country_result.jsp?country=Yemen&displayCurrency=USD\n",
      "https://www.numbeo.com/cost-of-living/country_result.jsp?country=Zambia&displayCurrency=USD\n",
      "https://www.numbeo.com/cost-of-living/country_result.jsp?country=Zimbabwe&displayCurrency=USD\n"
     ]
    }
   ],
   "source": [
    "# Itération sur les urls\n",
    "for url in df_urls['url']:\n",
    "    print(url)"
   ]
  },
  {
   "cell_type": "code",
   "execution_count": 135,
   "metadata": {},
   "outputs": [],
   "source": [
    "response = requests.get(df_urls['url'][0], headers=headers)\n",
    "soup = BeautifulSoup(response.content, 'html.parser')"
   ]
  },
  {
   "cell_type": "markdown",
   "metadata": {},
   "source": [
    "# III. Main"
   ]
  },
  {
   "cell_type": "code",
   "execution_count": 136,
   "metadata": {},
   "outputs": [
    {
     "name": "stdout",
     "output_type": "stream",
     "text": [
      " Cost of Living in Afghanistan\n"
     ]
    }
   ],
   "source": [
    "h1_text = soup.h1.text\n",
    "print(h1_text)"
   ]
  },
  {
   "cell_type": "code",
   "execution_count": 139,
   "metadata": {},
   "outputs": [
    {
     "name": "stdout",
     "output_type": "stream",
     "text": [
      "Afghanistan\n"
     ]
    }
   ],
   "source": [
    "# Extract the content of the <h1> tag\n",
    "h1_text = soup.h1.text\n",
    "# Use regex to extract the city name (assuming the city name follows 'in ')\n",
    "match = re.search(r'in\\s([A-Za-z\\s]+)', h1_text)\n",
    "\n",
    "if match:\n",
    "    pays = match.group(1).strip()  # Get the matched city name and remove leading/trailing spaces\n",
    "    pays = pays.replace(' ', '_')  # Replace space with underscore\n",
    "print(city_name)\n"
   ]
  },
  {
   "cell_type": "code",
   "execution_count": 115,
   "metadata": {},
   "outputs": [],
   "source": [
    "table = soup.select('table.data_wide_table.new_bar_table')[0]"
   ]
  },
  {
   "cell_type": "code",
   "execution_count": 126,
   "metadata": {},
   "outputs": [],
   "source": [
    "rows = table.select('tr')"
   ]
  },
  {
   "cell_type": "code",
   "execution_count": 83,
   "metadata": {},
   "outputs": [],
   "source": [
    "data = []"
   ]
  },
  {
   "cell_type": "code",
   "execution_count": 94,
   "metadata": {},
   "outputs": [],
   "source": [
    "for row in rows:\n",
    "    cells = row.find_all('td')\n",
    "    if len(cells) > 1:\n",
    "        data.append([cells[0].text, cells[1].text])"
   ]
  },
  {
   "cell_type": "code",
   "execution_count": 95,
   "metadata": {},
   "outputs": [],
   "source": [
    "res = pd.DataFrame(data, columns=['Item', 'Price'])"
   ]
  },
  {
   "cell_type": "markdown",
   "metadata": {},
   "source": [
    "# IV. Store Data"
   ]
  },
  {
   "cell_type": "code",
   "execution_count": 109,
   "metadata": {},
   "outputs": [],
   "source": [
    "dir_path = '../data/bronze'\n",
    "os.makedirs(dir_path, exist_ok=True)"
   ]
  },
  {
   "cell_type": "code",
   "execution_count": 140,
   "metadata": {},
   "outputs": [],
   "source": [
    "res.to_csv(os.path.join(dir_path, 'prix_NewYork.csv'), index=False)"
   ]
  }
 ],
 "metadata": {
  "kernelspec": {
   "display_name": "local",
   "language": "python",
   "name": "python3"
  },
  "language_info": {
   "codemirror_mode": {
    "name": "ipython",
    "version": 3
   },
   "file_extension": ".py",
   "mimetype": "text/x-python",
   "name": "python",
   "nbconvert_exporter": "python",
   "pygments_lexer": "ipython3",
   "version": "3.12.8"
  }
 },
 "nbformat": 4,
 "nbformat_minor": 2
}
